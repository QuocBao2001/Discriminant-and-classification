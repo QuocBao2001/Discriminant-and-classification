{
 "cells": [
  {
   "cell_type": "markdown",
   "id": "623602e8",
   "metadata": {},
   "source": [
    "# Phân lớp hoa Iris bằng phương pháp cực tiểu chi phí phân lớp sai"
   ]
  },
  {
   "cell_type": "code",
   "execution_count": 1,
   "id": "52440144",
   "metadata": {},
   "outputs": [
    {
     "data": {
      "text/plain": [
       "(112, 4)"
      ]
     },
     "execution_count": 1,
     "metadata": {},
     "output_type": "execute_result"
    }
   ],
   "source": [
    "import numpy as np\n",
    "import matplotlib.pyplot as plt\n",
    "from sklearn import datasets                          # lấy dữ liệu\n",
    "from sklearn.model_selection import train_test_split  # chia dữ liệu ra thành tập train và tập test\n",
    "np.set_printoptions(formatter={'float': lambda x: \"{0:0.3f}\".format(x)})\n",
    "\n",
    "#load dữ liệu\n",
    "data = datasets.load_iris()\n",
    "X, y = data.data, data.target\n",
    "# với tập train là 75% dữ liệu\n",
    "X_train, X_test, y_train, y_test = train_test_split(X, y, test_size=0.25, random_state =0 )\n",
    "X_train.shape"
   ]
  },
  {
   "cell_type": "markdown",
   "id": "99eea113",
   "metadata": {},
   "source": [
    "### Tổ chức lại dữ liệu\n",
    "Mỗi record bao gồm 4 thông số độ dài và thông số nhãn (0,1,2)"
   ]
  },
  {
   "cell_type": "code",
   "execution_count": 2,
   "id": "501904e3",
   "metadata": {},
   "outputs": [
    {
     "data": {
      "text/plain": [
       "[array([[4.700, 3.200, 1.300, 0.200, 0.000],\n",
       "        [5.000, 3.500, 1.600, 0.600, 0.000],\n",
       "        [5.400, 3.700, 1.500, 0.200, 0.000],\n",
       "        [4.800, 3.100, 1.600, 0.200, 0.000],\n",
       "        [5.300, 3.700, 1.500, 0.200, 0.000],\n",
       "        [4.300, 3.000, 1.100, 0.100, 0.000],\n",
       "        [5.400, 3.400, 1.700, 0.200, 0.000],\n",
       "        [5.700, 4.400, 1.500, 0.400, 0.000],\n",
       "        [4.600, 3.100, 1.500, 0.200, 0.000],\n",
       "        [4.600, 3.400, 1.400, 0.300, 0.000],\n",
       "        [4.800, 3.000, 1.400, 0.100, 0.000],\n",
       "        [5.100, 3.800, 1.600, 0.200, 0.000],\n",
       "        [4.800, 3.400, 1.600, 0.200, 0.000],\n",
       "        [4.500, 2.300, 1.300, 0.300, 0.000],\n",
       "        [4.900, 3.000, 1.400, 0.200, 0.000],\n",
       "        [4.400, 3.200, 1.300, 0.200, 0.000],\n",
       "        [5.000, 3.600, 1.400, 0.200, 0.000],\n",
       "        [5.100, 3.500, 1.400, 0.300, 0.000],\n",
       "        [4.400, 3.000, 1.300, 0.200, 0.000],\n",
       "        [5.400, 3.900, 1.700, 0.400, 0.000],\n",
       "        [5.100, 3.500, 1.400, 0.200, 0.000],\n",
       "        [4.900, 3.100, 1.500, 0.200, 0.000],\n",
       "        [5.200, 3.400, 1.400, 0.200, 0.000],\n",
       "        [5.000, 3.200, 1.200, 0.200, 0.000],\n",
       "        [5.100, 3.300, 1.700, 0.500, 0.000],\n",
       "        [5.400, 3.400, 1.500, 0.400, 0.000],\n",
       "        [5.200, 4.100, 1.500, 0.100, 0.000],\n",
       "        [5.800, 4.000, 1.200, 0.200, 0.000],\n",
       "        [5.100, 3.800, 1.500, 0.300, 0.000],\n",
       "        [4.700, 3.200, 1.600, 0.200, 0.000],\n",
       "        [5.000, 3.300, 1.400, 0.200, 0.000],\n",
       "        [5.000, 3.000, 1.600, 0.200, 0.000],\n",
       "        [5.100, 3.400, 1.500, 0.200, 0.000],\n",
       "        [5.500, 3.500, 1.300, 0.200, 0.000],\n",
       "        [5.100, 3.700, 1.500, 0.400, 0.000],\n",
       "        [4.900, 3.100, 1.500, 0.100, 0.000],\n",
       "        [4.600, 3.200, 1.400, 0.200, 0.000]]),\n",
       " array([[5.900, 3.000, 4.200, 1.500, 1.000],\n",
       "        [5.800, 2.600, 4.000, 1.200, 1.000],\n",
       "        [5.000, 2.000, 3.500, 1.000, 1.000],\n",
       "        [5.600, 2.500, 3.900, 1.100, 1.000],\n",
       "        [6.300, 3.300, 4.700, 1.600, 1.000],\n",
       "        [5.500, 2.400, 3.800, 1.100, 1.000],\n",
       "        [7.000, 3.200, 4.700, 1.400, 1.000],\n",
       "        [6.000, 3.400, 4.500, 1.600, 1.000],\n",
       "        [5.600, 2.700, 4.200, 1.300, 1.000],\n",
       "        [5.600, 2.900, 3.600, 1.300, 1.000],\n",
       "        [5.500, 2.500, 4.000, 1.300, 1.000],\n",
       "        [6.100, 3.000, 4.600, 1.400, 1.000],\n",
       "        [5.700, 3.000, 4.200, 1.200, 1.000],\n",
       "        [6.900, 3.100, 4.900, 1.500, 1.000],\n",
       "        [5.100, 2.500, 3.000, 1.100, 1.000],\n",
       "        [6.200, 2.200, 4.500, 1.500, 1.000],\n",
       "        [5.700, 2.900, 4.200, 1.300, 1.000],\n",
       "        [5.500, 2.300, 4.000, 1.300, 1.000],\n",
       "        [5.700, 2.800, 4.500, 1.300, 1.000],\n",
       "        [6.600, 3.000, 4.400, 1.400, 1.000],\n",
       "        [6.400, 2.900, 4.300, 1.300, 1.000],\n",
       "        [4.900, 2.400, 3.300, 1.000, 1.000],\n",
       "        [6.700, 3.100, 4.400, 1.400, 1.000],\n",
       "        [5.700, 2.800, 4.100, 1.300, 1.000],\n",
       "        [5.800, 2.700, 3.900, 1.200, 1.000],\n",
       "        [5.700, 2.600, 3.500, 1.000, 1.000],\n",
       "        [6.300, 2.500, 4.900, 1.500, 1.000],\n",
       "        [6.700, 3.000, 5.000, 1.700, 1.000],\n",
       "        [5.500, 2.400, 3.700, 1.000, 1.000],\n",
       "        [6.600, 2.900, 4.600, 1.300, 1.000],\n",
       "        [5.600, 3.000, 4.100, 1.300, 1.000],\n",
       "        [5.900, 3.200, 4.800, 1.800, 1.000],\n",
       "        [6.300, 2.300, 4.400, 1.300, 1.000],\n",
       "        [5.800, 2.700, 4.100, 1.000, 1.000]]),\n",
       " array([[6.800, 3.000, 5.500, 2.100, 2.000],\n",
       "        [6.900, 3.100, 5.100, 2.300, 2.000],\n",
       "        [6.500, 3.000, 5.500, 1.800, 2.000],\n",
       "        [6.700, 3.300, 5.700, 2.500, 2.000],\n",
       "        [6.000, 2.200, 5.000, 1.500, 2.000],\n",
       "        [6.700, 2.500, 5.800, 1.800, 2.000],\n",
       "        [7.700, 3.000, 6.100, 2.300, 2.000],\n",
       "        [6.300, 2.700, 4.900, 1.800, 2.000],\n",
       "        [6.300, 2.800, 5.100, 1.500, 2.000],\n",
       "        [4.900, 2.500, 4.500, 1.700, 2.000],\n",
       "        [6.300, 2.500, 5.000, 1.900, 2.000],\n",
       "        [6.500, 3.000, 5.200, 2.000, 2.000],\n",
       "        [5.800, 2.700, 5.100, 1.900, 2.000],\n",
       "        [7.200, 3.200, 6.000, 1.800, 2.000],\n",
       "        [6.400, 2.700, 5.300, 1.900, 2.000],\n",
       "        [5.900, 3.000, 5.100, 1.800, 2.000],\n",
       "        [7.200, 3.600, 6.100, 2.500, 2.000],\n",
       "        [7.100, 3.000, 5.900, 2.100, 2.000],\n",
       "        [6.900, 3.200, 5.700, 2.300, 2.000],\n",
       "        [6.500, 3.000, 5.800, 2.200, 2.000],\n",
       "        [6.400, 2.800, 5.600, 2.100, 2.000],\n",
       "        [6.500, 3.200, 5.100, 2.000, 2.000],\n",
       "        [6.700, 3.300, 5.700, 2.100, 2.000],\n",
       "        [6.200, 3.400, 5.400, 2.300, 2.000],\n",
       "        [5.700, 2.500, 5.000, 2.000, 2.000],\n",
       "        [6.900, 3.100, 5.400, 2.100, 2.000],\n",
       "        [7.200, 3.000, 5.800, 1.600, 2.000],\n",
       "        [6.800, 3.200, 5.900, 2.300, 2.000],\n",
       "        [7.600, 3.000, 6.600, 2.100, 2.000],\n",
       "        [7.700, 2.600, 6.900, 2.300, 2.000],\n",
       "        [7.900, 3.800, 6.400, 2.000, 2.000],\n",
       "        [6.000, 3.000, 4.800, 1.800, 2.000],\n",
       "        [7.700, 2.800, 6.700, 2.000, 2.000],\n",
       "        [7.400, 2.800, 6.100, 1.900, 2.000],\n",
       "        [6.300, 3.400, 5.600, 2.400, 2.000],\n",
       "        [6.400, 3.200, 5.300, 2.300, 2.000],\n",
       "        [6.700, 3.000, 5.200, 2.300, 2.000],\n",
       "        [6.700, 3.100, 5.600, 2.400, 2.000],\n",
       "        [5.800, 2.700, 5.100, 1.900, 2.000],\n",
       "        [6.300, 2.900, 5.600, 1.800, 2.000],\n",
       "        [7.700, 3.800, 6.700, 2.200, 2.000]])]"
      ]
     },
     "execution_count": 2,
     "metadata": {},
     "output_type": "execute_result"
    }
   ],
   "source": [
    "train_X = np.concatenate((X_train, y_train.reshape((y_train.shape[0],1))),axis=1)\n",
    "#train_X = train.to_numpy()[:,1:]\n",
    "X_0 = train_X[train_X[:,-1] == 0]\n",
    "X_1 = train_X[train_X[:,-1] == 1]\n",
    "X_2 = train_X[train_X[:,-1] == 2]\n",
    "train_X = [X_0, X_1, X_2]\n",
    "train_X\n"
   ]
  },
  {
   "cell_type": "markdown",
   "id": "e682bb0f",
   "metadata": {},
   "source": [
    "### Trực quan hóa dữ liệu bằng nhiều scatter plot"
   ]
  },
  {
   "cell_type": "code",
   "execution_count": 3,
   "id": "0a9b75de",
   "metadata": {},
   "outputs": [
    {
     "data": {
      "text/plain": [
       "<matplotlib.legend.Legend at 0x228a1bffc40>"
      ]
     },
     "execution_count": 3,
     "metadata": {},
     "output_type": "execute_result"
    },
    {
     "data": {
      "image/png": "[encoded data removed]",
      "text/plain": [
       "<Figure size 432x288 with 1 Axes>"
      ]
     },
     "metadata": {
      "needs_background": "light"
     },
     "output_type": "display_data"
    },
    {
     "data": {
      "image/png": "[encoded data removed]",
      "text/plain": [
       "<Figure size 432x288 with 1 Axes>"
      ]
     },
     "metadata": {
      "needs_background": "light"
     },
     "output_type": "display_data"
    },
    {
     "data": {
      "image/png": "[encoded data removed]",
      "text/plain": [
       "<Figure size 432x288 with 1 Axes>"
      ]
     },
     "metadata": {
      "needs_background": "light"
     },
     "output_type": "display_data"
    },
    {
     "data": {
      "image/png": "[encoded data removed]",
      "text/plain": [
       "<Figure size 432x288 with 1 Axes>"
      ]
     },
     "metadata": {
      "needs_background": "light"
     },
     "output_type": "display_data"
    },
    {
     "data": {
      "image/png": "[encoded data removed]",
      "text/plain": [
       "<Figure size 432x288 with 1 Axes>"
      ]
     },
     "metadata": {
      "needs_background": "light"
     },
     "output_type": "display_data"
    },
    {
     "data": {
      "image/png": "[encoded data removed]",
      "text/plain": [
       "<Figure size 432x288 with 1 Axes>"
      ]
     },
     "metadata": {
      "needs_background": "light"
     },
     "output_type": "display_data"
    }
   ],
   "source": [
    "color_map = np.array(['r', 'g', 'b'])\n",
    "plt.figure(1)\n",
    "plt.title(\"Sepal length and width\")\n",
    "plt.ylabel(\"Sepal width\")\n",
    "plt.xlabel(\"Sepal length\")\n",
    "for i in range(len(train_X)):\n",
    "    plt.scatter(train_X[i][:,0], train_X[i][:,1], c=color_map[i], label=train_X[i][0,4])\n",
    "plt.legend()\n",
    "    \n",
    "plt.figure(2)\n",
    "plt.title(\"Petal length and width\")\n",
    "plt.ylabel(\"Petal width\")\n",
    "plt.xlabel(\"Petal length\")\n",
    "for i in range(len(train_X)):\n",
    "    plt.scatter(train_X[i][:,2], train_X[i][:,3], c=color_map[i], label=train_X[i][0,4])\n",
    "plt.legend()\n",
    "    \n",
    "plt.figure(3)\n",
    "plt.title(\"Sepal and Petal length\")\n",
    "plt.ylabel(\"Petal length\")\n",
    "plt.xlabel(\"sepal length\")\n",
    "for i in range(len(train_X)):\n",
    "    plt.scatter(train_X[i][:,0], train_X[i][:,2], c=color_map[i], label=train_X[i][0,4])\n",
    "plt.legend()\n",
    "    \n",
    "plt.figure(4)\n",
    "plt.title(\"Sepal and Petal width\")\n",
    "plt.ylabel(\"Petal width\")\n",
    "plt.xlabel(\"sepal width\")\n",
    "for i in range(len(train_X)):\n",
    "    plt.scatter(train_X[i][:,1], train_X[i][:,3], c=color_map[i], label=train_X[i][0,4])\n",
    "plt.legend()\n",
    "    \n",
    "plt.figure(5)\n",
    "plt.title(\"Sepal length and Petal width\")\n",
    "plt.ylabel(\"Petal width\")\n",
    "plt.xlabel(\"sepal length\")\n",
    "for i in range(len(train_X)):\n",
    "    plt.scatter(train_X[i][:,0], train_X[i][:,3], c=color_map[i], label=train_X[i][0,4])\n",
    "plt.legend()\n",
    "    \n",
    "plt.figure(6)\n",
    "plt.title(\"Sepal width and Petal length\")\n",
    "plt.ylabel(\"Petal length\")\n",
    "plt.xlabel(\"sepal width\")\n",
    "for i in range(len(train_X)):\n",
    "    plt.scatter(train_X[i][:,1], train_X[i][:,2], c=color_map[i], label=train_X[i][0,4])\n",
    "plt.legend()"
   ]
  },
  {
   "cell_type": "markdown",
   "id": "8efaf3e9",
   "metadata": {},
   "source": [
    "### Tính xác suất tiên nghiệm\n",
    "xác suất xuất hiện của mỗi lớp là số phần tử tập train thuộc lớp đó chia cho tổng số phần tử tập train"
   ]
  },
  {
   "cell_type": "code",
   "execution_count": 4,
   "id": "7769a3c3",
   "metadata": {},
   "outputs": [
    {
     "data": {
      "text/plain": [
       "[0.33035714285714285, 0.30357142857142855, 0.36607142857142855]"
      ]
     },
     "execution_count": 4,
     "metadata": {},
     "output_type": "execute_result"
    }
   ],
   "source": [
    "# tính các prior probability\n",
    "p = []\n",
    "for i in range(len(train_X)):\n",
    "    p.append(len(train_X[i])/ len(X_train))\n",
    "p"
   ]
  },
  {
   "cell_type": "markdown",
   "id": "c499e29e",
   "metadata": {},
   "source": [
    "### Tính trung bình mẫu của 4 thông số độ dài theo từng lớp dữ liệu"
   ]
  },
  {
   "cell_type": "code",
   "execution_count": 5,
   "id": "1bbd4013",
   "metadata": {},
   "outputs": [
    {
     "data": {
      "text/plain": [
       "[array([4.997, 3.389, 1.454, 0.241]),\n",
       " array([5.918, 2.759, 4.191, 1.309]),\n",
       " array([6.663, 2.990, 5.583, 2.039])]"
      ]
     },
     "execution_count": 5,
     "metadata": {},
     "output_type": "execute_result"
    }
   ],
   "source": [
    "# tính sample mean\n",
    "Mean = []\n",
    "for i in range(len(train_X)):\n",
    "    Mean.append(np.mean(train_X[i][:,:-1], axis=0))\n",
    "Mean"
   ]
  },
  {
   "cell_type": "markdown",
   "id": "1594566c",
   "metadata": {},
   "source": [
    "### Tính ma trận covariance mẫu theo từng lớp dữ liệu"
   ]
  },
  {
   "cell_type": "code",
   "execution_count": 6,
   "id": "882ace13",
   "metadata": {},
   "outputs": [
    {
     "data": {
      "text/plain": [
       "[array([[0.126, 0.101, 0.015, 0.010],\n",
       "        [0.101, 0.149, 0.014, 0.010],\n",
       "        [0.015, 0.014, 0.020, 0.006],\n",
       "        [0.010, 0.010, 0.006, 0.012]]),\n",
       " array([[0.273, 0.099, 0.205, 0.067],\n",
       "        [0.099, 0.115, 0.091, 0.043],\n",
       "        [0.205, 0.091, 0.228, 0.080],\n",
       "        [0.067, 0.043, 0.080, 0.042]]),\n",
       " array([[0.417, 0.103, 0.319, 0.060],\n",
       "        [0.103, 0.117, 0.078, 0.050],\n",
       "        [0.319, 0.078, 0.312, 0.054],\n",
       "        [0.060, 0.050, 0.054, 0.067]])]"
      ]
     },
     "execution_count": 6,
     "metadata": {},
     "output_type": "execute_result"
    }
   ],
   "source": [
    "# tính sample covariance\n",
    "Cov = []\n",
    "for i in range(len(train_X)):\n",
    "    Cov.append(np.cov(train_X[i][:,:-1].T))\n",
    "Cov"
   ]
  },
  {
   "attachments": {},
   "cell_type": "markdown",
   "id": "92bb257a",
   "metadata": {},
   "source": [
    "### Hàm discriminant score dùng để tính discriminant score theo lý thuyết\n"
   ]
  },
  {
   "cell_type": "code",
   "execution_count": 7,
   "id": "d3fc1429",
   "metadata": {},
   "outputs": [],
   "source": [
    "# hàm tính discriminant score\n",
    "def discriminant_score(x, prior, Mean, Cov):\n",
    "    score = np.log(prior) - (1.0/2) * np.log(np.linalg.det(Cov)) \n",
    "    score -= (1.0/2) * np.dot(np.dot((x - Mean).T, np.linalg.inv(Cov)),(x-Mean))      \n",
    "    return score"
   ]
  },
  {
   "cell_type": "markdown",
   "id": "c2e337c6",
   "metadata": {},
   "source": [
    "### Thử nghiệm tính discriminant score với class 0 cho 1 biến dữ liệu"
   ]
  },
  {
   "cell_type": "code",
   "execution_count": 8,
   "id": "f0523a7a",
   "metadata": {},
   "outputs": [
    {
     "data": {
      "text/plain": [
       "-294.9105813329697"
      ]
     },
     "execution_count": 8,
     "metadata": {},
     "output_type": "execute_result"
    }
   ],
   "source": [
    "dk = discriminant_score([1,2,1,2], p[0], Mean[0], Cov[0])\n",
    "dk"
   ]
  },
  {
   "cell_type": "markdown",
   "id": "f214fc5c",
   "metadata": {},
   "source": [
    "### thực hiện dự đoán trên tập test\n",
    "Với mỗi điểm dữ liệu tập test, tính discriminant score cho biến đó với từng class, sau đó gán nhãn dữ liệu đó là class có discriminant score lớn nhất"
   ]
  },
  {
   "cell_type": "code",
   "execution_count": 12,
   "id": "bc0d052d",
   "metadata": {},
   "outputs": [
    {
     "name": "stdout",
     "output_type": "stream",
     "text": [
      "[2, 1, 0, 2, 0, 2, 0, 1, 1, 1, 2, 1, 1, 1, 1, 0, 1, 1, 0, 0, 2, 1, 0, 0, 2, 0, 0, 1, 1, 0, 2, 1, 0, 2, 2, 1, 0, 2]\n"
     ]
    }
   ],
   "source": [
    "predict = []\n",
    "for i in range(len(X_test)):\n",
    "    dk = []\n",
    "    for k in range(len(train_X)):\n",
    "        dk.append(discriminant_score(X_test[i], p[k], Mean[k], Cov[k]))\n",
    "    max_value = max(dk)\n",
    "    predict.append(dk.index(max_value))\n",
    "print(predict)"
   ]
  },
  {
   "cell_type": "markdown",
   "id": "5b2c829b",
   "metadata": {},
   "source": [
    "### Nhãn thật sự của tập test"
   ]
  },
  {
   "cell_type": "code",
   "execution_count": 13,
   "id": "20d78f7e",
   "metadata": {},
   "outputs": [
    {
     "name": "stdout",
     "output_type": "stream",
     "text": [
      "[2 1 0 2 0 2 0 1 1 1 2 1 1 1 1 0 1 1 0 0 2 1 0 0 2 0 0 1 1 0 2 1 0 2 2 1 0\n",
      " 1]\n"
     ]
    }
   ],
   "source": [
    "print(y_test)"
   ]
  },
  {
   "cell_type": "markdown",
   "id": "f393a6e6",
   "metadata": {},
   "source": [
    "### Tính độ chính xác bằng cách đếm tổng số mẫu gán nhãn đúng trên toàn bộ mẫu"
   ]
  },
  {
   "cell_type": "code",
   "execution_count": 14,
   "id": "f8091f02",
   "metadata": {},
   "outputs": [
    {
     "data": {
      "text/plain": [
       "0.9736842105263158"
      ]
     },
     "execution_count": 14,
     "metadata": {},
     "output_type": "execute_result"
    }
   ],
   "source": [
    "same = [x for x in range(len(predict)) if predict[x]==y_test[x]]\n",
    "accuracy = len(same)/len(y_test)\n",
    "accuracy"
   ]
  }
 ],
 "metadata": {
  "kernelspec": {
   "display_name": "Python 3 (ipykernel)",
   "language": "python",
   "name": "python3"
  },
  "language_info": {
   "codemirror_mode": {
    "name": "ipython",
    "version": 3
   },
   "file_extension": ".py",
   "mimetype": "text/x-python",
   "name": "python",
   "nbconvert_exporter": "python",
   "pygments_lexer": "ipython3",
   "version": "3.8.8"
  }
 },
 "nbformat": 4,
 "nbformat_minor": 5
}
