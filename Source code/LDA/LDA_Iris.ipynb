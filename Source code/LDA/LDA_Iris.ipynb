{
 "cells": [
  {
   "cell_type": "markdown",
   "id": "0b8f99a0",
   "metadata": {},
   "source": [
    "# LDA multy class"
   ]
  },
  {
   "cell_type": "code",
   "execution_count": 4,
   "id": "a7ec9480",
   "metadata": {},
   "outputs": [],
   "source": [
    "# dữ liệu sử dụng cho ví dụ \n",
    "from sklearn import datasets                          # lấy dữ liệu\n",
    "from sklearn.model_selection import train_test_split  # chia dữ liệu ra thành tập train và tập test\n",
    "import numpy as np                                    # thư viện để làm việc với mảng và các hàm toán học \n",
    "from scipy.spatial import distance                    # tính khoảng cách eclipse \n",
    "import matplotlib.pyplot as plt                       # trực quan hóa dữ liệu"
   ]
  },
  {
   "cell_type": "code",
   "execution_count": 28,
   "id": "3b7841d2",
   "metadata": {
    "scrolled": false
   },
   "outputs": [
    {
     "data": {
      "text/plain": [
       "array([[5.9, 3. , 4.2, 1.5],\n",
       "       [5.8, 2.6, 4. , 1.2],\n",
       "       [6.8, 3. , 5.5, 2.1],\n",
       "       [4.7, 3.2, 1.3, 0.2],\n",
       "       [6.9, 3.1, 5.1, 2.3]])"
      ]
     },
     "execution_count": 28,
     "metadata": {},
     "output_type": "execute_result"
    }
   ],
   "source": [
    "# chia dữ liệu thành tập train và tập test\n",
    "# load dữ liệu\n",
    "data = datasets.load_iris()\n",
    "X, y = data.data, data.target\n",
    "# với tập train là 75% dữ liệu\n",
    "X_train, X_test, y_train, y_test = train_test_split(X, y, test_size=0.25, random_state =0 )\n",
    "\n",
    "# biến toàn cục\n",
    "X_train_projected = None\n",
    "X_test_projected = None\n",
    "X_train[:5,:]"
   ]
  },
  {
   "cell_type": "code",
   "execution_count": 6,
   "id": "e059cf7a",
   "metadata": {},
   "outputs": [],
   "source": [
    "class LDA:\n",
    "    def __init__(self, n_components):\n",
    "        # số chiều dữ liệu còn lại trong không gian mới \n",
    "        self.n_components = n_components\n",
    "        self.linear_discriminants = None\n",
    "\n",
    "    def fit(self, X, y):\n",
    "        n_features = X.shape[1]\n",
    "        class_labels = np.unique(y)   # liệt kê các lớp trong tập dữ liệu\n",
    "        # Within class scatter matrix:\n",
    "        # SW = sum((X_c - mean_X_c)^2 )\n",
    "        # Between class scatter:\n",
    "        # SB = sum( n_c * (mean_X_c - mean_overall)^2 )\n",
    "        m = np.mean(X, axis=0)\n",
    "        SW = np.zeros((n_features, n_features))       #  within-class covariance matrix\n",
    "        SB = np.zeros((n_features, n_features))       #  between-class covariance matrix\n",
    "        for k in class_labels:\n",
    "            X_k = X[y == k]                           # Lấy các mẫu thuộc cùng class\n",
    "            m_k = np.mean(X_k, axis=0)                # Trung bình các mẫu thuộc class\n",
    "            # (4, N_k) * (N_k, 4) = (4,4) \n",
    "            SW += (X_k - m_k).T.dot((X_k - m_k))\n",
    "            # (4, 1) * (1, 4) = (4,4) -> reshape\n",
    "            N_k = X_k.shape[0]\n",
    "            mean_diff = (m_k - m).reshape(n_features, 1)\n",
    "            SB += N_k * (mean_diff).dot(mean_diff.T)\n",
    "        # Tính SW^-1 * SB\n",
    "        A = np.linalg.inv(SW).dot(SB) \n",
    "        # Tính trị riêng và vector riêng của SW^-1 * SB\n",
    "        eigenvalues, eigenvectors = np.linalg.eig(A)    \n",
    "        # sắp xếp trị riêng từ lớn đến bé\n",
    "        eigenvectors = eigenvectors.T\n",
    "        idxs = np.argsort(abs(eigenvalues))[::-1]\n",
    "        eigenvalues = eigenvalues[idxs]\n",
    "        eigenvectors = eigenvectors[idxs]     \n",
    "        # giữ lại n_components vector ứng với các giá trị riêng lớn nhất\n",
    "        self.linear_discriminants = eigenvectors[0 : self.n_components]\n",
    "    def transform(self, X):\n",
    "        # chiếu dữ liệu sang không gian mới \n",
    "        return np.dot(X, self.linear_discriminants.T)\n"
   ]
  },
  {
   "cell_type": "markdown",
   "id": "c5b3c87d",
   "metadata": {},
   "source": [
    "#### Giảm chiều dữ liệu xuống còn 2"
   ]
  },
  {
   "cell_type": "code",
   "execution_count": 7,
   "id": "5c282c0e",
   "metadata": {
    "scrolled": true
   },
   "outputs": [
    {
     "name": "stdout",
     "output_type": "stream",
     "text": [
      "Shape of X: (112, 4)\n",
      "Shape of y: (112,)\n",
      "Shape of transformed X: (112, 2)\n"
     ]
    },
    {
     "data": {
      "image/png": "[encoded data removed]",
      "text/plain": [
       "<Figure size 432x288 with 2 Axes>"
      ]
     },
     "metadata": {
      "needs_background": "light"
     },
     "output_type": "display_data"
    }
   ],
   "source": [
    "# Testing\n",
    "if __name__ == \"__main__\":\n",
    "    \n",
    "    # Chiếu dữ liệu trong không gian 4 chiều ban đầu sang không gian 2 chiều   \n",
    "    lda = LDA(2)\n",
    "    lda.fit(X_train, y_train)\n",
    "    X_train_projected = lda.transform(X_train)\n",
    "\n",
    "    print(\"Shape of X:\", X_train.shape)\n",
    "    print(\"Shape of y:\", y_train.shape)\n",
    "    print(\"Shape of transformed X:\", X_train_projected.shape)\n",
    "\n",
    "    x1, x2 = X_train_projected[:, 0], X_train_projected[:, 1]\n",
    "    plt.scatter(x1, x2, c=y_train, alpha=1, cmap=plt.cm.get_cmap(\"viridis\", 3))\n",
    "    \n",
    "    plt.xlabel(\"Linear Discriminant 1\")\n",
    "    plt.ylabel(\"Linear Discriminant 2\")\n",
    "    plt.colorbar()\n",
    "    plt.show()"
   ]
  },
  {
   "cell_type": "code",
   "execution_count": 8,
   "id": "c0fe13fb",
   "metadata": {},
   "outputs": [],
   "source": [
    "# Chiếu tập dữ liệu test vào không gian mới \n",
    "X_test_projected = lda.transform(X_test)"
   ]
  },
  {
   "cell_type": "code",
   "execution_count": 9,
   "id": "f18b03fe",
   "metadata": {},
   "outputs": [],
   "source": [
    "# Tính trung bình của mỗi class trong không gian mới  \n",
    "means = np.array([None,None,None])\n",
    "class_labels = np.unique(y_train)\n",
    "for c in class_labels:\n",
    "    X_c = X_train_projected[y_train == c]\n",
    "    means[c] = np.mean(X_c, axis=0)"
   ]
  },
  {
   "cell_type": "code",
   "execution_count": 11,
   "id": "4939dbcd",
   "metadata": {},
   "outputs": [],
   "source": [
    "# tính khoảng cách eclipse và và dự đoán class dựa trên khoảng cách nhỏ nhất đến các điểm trung tâm mỗi class\n",
    "y_test_predict = np.zeros(y_test.shape, dtype = 'i1') \n",
    "for i in range(X_test_projected.shape[0]):\n",
    "    dis = [distance.euclidean(means[j], X_test_projected[i]) for j in range(3)]\n",
    "    y_test_predict[i] = np.argmin(dis)"
   ]
  },
  {
   "cell_type": "code",
   "execution_count": 14,
   "id": "2a94eef3",
   "metadata": {
    "scrolled": true
   },
   "outputs": [
    {
     "data": {
      "text/plain": [
       "<matplotlib.collections.PathCollection at 0x1fee9c2d430>"
      ]
     },
     "execution_count": 14,
     "metadata": {},
     "output_type": "execute_result"
    },
    {
     "data": {
      "image/png": "[encoded data removed]",
      "text/plain": [
       "<Figure size 432x288 with 2 Axes>"
      ]
     },
     "metadata": {
      "needs_background": "light"
     },
     "output_type": "display_data"
    }
   ],
   "source": [
    "# vẽ dữ liệu trong không gian mới (2 chiều) với các điểm trung tâm\n",
    "x_test1, x_test2 = X_test_projected[:, 0], X_test_projected[:, 1]\n",
    "x1, x2 = X_train_projected[:, 0], X_train_projected[:, 1]\n",
    "\n",
    "plt.scatter(x1, x2, c=y_train, alpha=0.3, cmap=plt.cm.get_cmap(\"viridis\", 3))\n",
    "\n",
    "plt.scatter(x_test1, x_test2, c=y_test_predict, alpha=1, cmap=plt.cm.get_cmap(\"viridis\", 3))\n",
    "plt.colorbar()\n",
    "\n",
    "plt.scatter(means[0][0],means[0][1],200, c = 'purple')\n",
    "plt.scatter(means[1][0],means[1][1],200, c = 'blue')\n",
    "plt.scatter(means[2][0],means[2][1],200, c = 'yellow')\n"
   ]
  },
  {
   "cell_type": "code",
   "execution_count": 16,
   "id": "7481375e",
   "metadata": {
    "scrolled": false
   },
   "outputs": [
    {
     "name": "stdout",
     "output_type": "stream",
     "text": [
      "accuracy =  97.36842105263158 %\n"
     ]
    }
   ],
   "source": [
    "# tính độ chính xác\n",
    "s = np.sum(y_test_predict==y_test)\n",
    "print(\"accuracy = \", s * 100/y_test.size, \"%\")"
   ]
  },
  {
   "cell_type": "markdown",
   "id": "4b2bd162",
   "metadata": {},
   "source": [
    "#### Giảm chiều dữ liệu còn 3"
   ]
  },
  {
   "cell_type": "code",
   "execution_count": 29,
   "id": "d9b6b490",
   "metadata": {},
   "outputs": [],
   "source": [
    "# Giảm chiều dữ liệu từ 4 chiều xuống 3 chiều\n",
    "lda = LDA(3)\n",
    "lda.fit(X_train, y_train)\n",
    "X_train_projected = lda.transform(X_train)\n",
    "x_test_predict = lda.transform(X_test)"
   ]
  },
  {
   "cell_type": "code",
   "execution_count": 18,
   "id": "dd82b4c6",
   "metadata": {},
   "outputs": [],
   "source": [
    "# Tìm điểm trung tâm của mỗi class\n",
    "means1 = np.array([None,None,None])\n",
    "class_labels = np.unique(y_train)\n",
    "for c in class_labels:\n",
    "    X_c = X_train_projected[y_train == c]\n",
    "    means1[c] = np.mean(X_c, axis=0)"
   ]
  },
  {
   "cell_type": "code",
   "execution_count": 19,
   "id": "4db99773",
   "metadata": {},
   "outputs": [],
   "source": [
    "# Dự đoán nhãn cho dữ liệu test\n",
    "for i in range(X_test.shape[0]):\n",
    "    dis = [distance.euclidean(means1[j], x_test_predict[i]) for j in range(3)]\n",
    "    y_test_predict[i] = np.argmin(dis)"
   ]
  },
  {
   "cell_type": "code",
   "execution_count": 21,
   "id": "a959fe0f",
   "metadata": {},
   "outputs": [
    {
     "name": "stdout",
     "output_type": "stream",
     "text": [
      "accuracy =  97.36842105263158 %\n"
     ]
    }
   ],
   "source": [
    "# tính độ chính xác\n",
    "s = np.sum(y_test_predict==y_test)\n",
    "print(\"accuracy = \", s * 100/y_test.size, \"%\")"
   ]
  },
  {
   "cell_type": "markdown",
   "id": "40272877",
   "metadata": {},
   "source": [
    "### Để nguyên số chiều dữ liệu là 4"
   ]
  },
  {
   "cell_type": "code",
   "execution_count": 24,
   "id": "d60e2050",
   "metadata": {},
   "outputs": [],
   "source": [
    "# Tìm điểm trung tâm của mỗi class\n",
    "means1 = np.array([None,None,None])\n",
    "class_labels = np.unique(y_train)\n",
    "for c in class_labels:\n",
    "    X_c = X_train[y_train == c]\n",
    "    means1[c] = np.mean(X_c, axis=0)"
   ]
  },
  {
   "cell_type": "code",
   "execution_count": 25,
   "id": "e22694a8",
   "metadata": {},
   "outputs": [],
   "source": [
    "# Dự đoán nhãn cho dữ liệu test\n",
    "for i in range(X_test.shape[0]):\n",
    "    dis = [distance.euclidean(means1[j], X_test[i]) for j in range(3)]\n",
    "    y_test_predict[i] = np.argmin(dis)"
   ]
  },
  {
   "cell_type": "code",
   "execution_count": 27,
   "id": "1edda6e9",
   "metadata": {},
   "outputs": [
    {
     "name": "stdout",
     "output_type": "stream",
     "text": [
      "accuracy =  89.47368421052632 %\n"
     ]
    }
   ],
   "source": [
    "# tính độ chính xác\n",
    "s = np.sum(y_test_predict==y_test)\n",
    "print(\"accuracy = \", s * 100/y_test.size, \"%\")"
   ]
  },
  {
   "cell_type": "markdown",
   "id": "d54ac317",
   "metadata": {},
   "source": [
    "#### Giảm xuống 1 chiều "
   ]
  },
  {
   "cell_type": "code",
   "execution_count": 30,
   "id": "b28bd79c",
   "metadata": {},
   "outputs": [],
   "source": [
    "# Giảm chiều dữ liệu từ 4 chiều xuống 1 chiều\n",
    "lda = LDA(3)\n",
    "lda.fit(X_train, y_train)\n",
    "X_train_projected = lda.transform(X_train)\n",
    "x_test_predict = lda.transform(X_test)"
   ]
  },
  {
   "cell_type": "code",
   "execution_count": 31,
   "id": "48cb5cdd",
   "metadata": {},
   "outputs": [],
   "source": [
    "# Tìm điểm trung tâm của mỗi class\n",
    "means1 = np.array([None,None,None])\n",
    "class_labels = np.unique(y_train)\n",
    "for c in class_labels:\n",
    "    X_c = X_train_projected[y_train == c]\n",
    "    means1[c] = np.mean(X_c, axis=0)"
   ]
  },
  {
   "cell_type": "code",
   "execution_count": 32,
   "id": "78cd9566",
   "metadata": {},
   "outputs": [],
   "source": [
    "# Dự đoán nhãn cho dữ liệu test\n",
    "for i in range(X_test.shape[0]):\n",
    "    dis = [distance.euclidean(means1[j], x_test_predict[i]) for j in range(3)]\n",
    "    y_test_predict[i] = np.argmin(dis)"
   ]
  },
  {
   "cell_type": "code",
   "execution_count": 33,
   "id": "215a8b7f",
   "metadata": {},
   "outputs": [
    {
     "name": "stdout",
     "output_type": "stream",
     "text": [
      "accuracy =  97.36842105263158 %\n"
     ]
    }
   ],
   "source": [
    "# tính độ chính xác\n",
    "s = np.sum(y_test_predict==y_test)\n",
    "print(\"accuracy = \", s * 100/y_test.size, \"%\")"
   ]
  },
  {
   "cell_type": "code",
   "execution_count": null,
   "id": "9394abc7",
   "metadata": {},
   "outputs": [],
   "source": []
  }
 ],
 "metadata": {
  "kernelspec": {
   "display_name": "Python 3 (ipykernel)",
   "language": "python",
   "name": "python3"
  },
  "language_info": {
   "codemirror_mode": {
    "name": "ipython",
    "version": 3
   },
   "file_extension": ".py",
   "mimetype": "text/x-python",
   "name": "python",
   "nbconvert_exporter": "python",
   "pygments_lexer": "ipython3",
   "version": "3.9.7"
  }
 },
 "nbformat": 4,
 "nbformat_minor": 5
}
